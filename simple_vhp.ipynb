{
 "cells": [
  {
   "cell_type": "code",
   "execution_count": 1,
   "id": "f169896c",
   "metadata": {},
   "outputs": [
    {
     "data": {
      "text/plain": [
       "<torch._C.Generator at 0x1a693429170>"
      ]
     },
     "execution_count": 1,
     "metadata": {},
     "output_type": "execute_result"
    }
   ],
   "source": [
    "import torch\n",
    "from torch import nn\n",
    "from torch.autograd.functional import vhp\n",
    "import copy\n",
    "import numpy as np\n",
    "\n",
    "torch.manual_seed(0)"
   ]
  },
  {
   "cell_type": "code",
   "execution_count": 2,
   "id": "43d247b6",
   "metadata": {},
   "outputs": [],
   "source": [
    "def pow_reducer(x):\n",
    "  return x.pow(3).sum()\n",
    "\n",
    "\n",
    "def pow_adder_reducer(x, y):\n",
    "  return (2 * x.pow(4) + 3 * y.pow(3) + x.pow(3)*y.pow(5)).sum()\n"
   ]
  },
  {
   "cell_type": "markdown",
   "id": "a564de3d",
   "metadata": {},
   "source": [
    "The inputs are what the Hessian is computed with respect to. Here it is just x's; for us it will be model parameters. This is fine, because loss functions are set up that way: inputs are fixed and the gradients are with respect to params. I am a little unclear on how to pass params to vhp. "
   ]
  },
  {
   "cell_type": "code",
   "execution_count": 3,
   "id": "426dbc1e",
   "metadata": {},
   "outputs": [],
   "source": [
    "ishape = (4)\n",
    "inputs = torch.rand(ishape)\n",
    "v = torch.ones(ishape) # all ones, so just copies "
   ]
  },
  {
   "cell_type": "code",
   "execution_count": 4,
   "id": "7ffc7a8f",
   "metadata": {},
   "outputs": [
    {
     "data": {
      "text/plain": [
       "(tensor(0.5786), tensor([2.9775, 4.6093, 0.5309, 0.7922]))"
      ]
     },
     "execution_count": 4,
     "metadata": {},
     "output_type": "execute_result"
    }
   ],
   "source": [
    "\n",
    "vhp(pow_reducer, inputs, v)\n"
   ]
  },
  {
   "cell_type": "markdown",
   "id": "2b3fe5b4",
   "metadata": {},
   "source": [
    "Math for pow_reducer Hessian:\n",
    "\n",
    "\\begin{align}\n",
    "  & f\\left( \\mathbf{x} \\right)=\\sum\\limits_{i=1}^{4}{x_{i}^{3}} \\\\ \n",
    " & \\frac{\\partial f}{\\partial {{x}_{j}}}=\\sum\\limits_{i=1}^{4}{3x_{i}^{2}{{\\delta }_{ij}}}=3x_{j}^{2} \\\\ \n",
    " & \\frac{{{\\partial }^{2}}f}{\\partial {{x}_{k}}\\partial {{x}_{j}}}=\\sum\\limits_{i=1}^{4}{6{{x}_{i}}{{\\delta }_{ij}}}{{\\delta }_{ik}}=6{{x}_{j}}{{\\delta }_{jk}} \\\\ \n",
    "\\end{align}\n"
   ]
  },
  {
   "cell_type": "markdown",
   "id": "8c603330",
   "metadata": {},
   "source": [
    "Ok, so that's the Hessian, it's a matrix. When I dot it with a vector of ones, I get a vector that's just each input x times 6. "
   ]
  },
  {
   "cell_type": "code",
   "execution_count": 5,
   "id": "4575b5ac",
   "metadata": {},
   "outputs": [
    {
     "name": "stdout",
     "output_type": "stream",
     "text": [
      "tensor(0.5786)\n",
      "tensor([2.9775, 4.6093, 0.5309, 0.7922])\n"
     ]
    }
   ],
   "source": [
    "print(pow_reducer(inputs))\n",
    "print(6*inputs)"
   ]
  },
  {
   "cell_type": "markdown",
   "id": "fdefe460",
   "metadata": {},
   "source": [
    "I think I need to say create_graph=True, but I can't remember why. "
   ]
  },
  {
   "cell_type": "code",
   "execution_count": 6,
   "id": "70ee8ffe",
   "metadata": {},
   "outputs": [
    {
     "data": {
      "text/plain": [
       "(tensor(0.5786, grad_fn=<SumBackward0>),\n",
       " tensor([2.9775, 4.6093, 0.5309, 0.7922], grad_fn=<MulBackward0>))"
      ]
     },
     "execution_count": 6,
     "metadata": {},
     "output_type": "execute_result"
    }
   ],
   "source": [
    "vhp(pow_reducer, inputs, v, create_graph=True)\n"
   ]
  },
  {
   "cell_type": "markdown",
   "id": "676062dd",
   "metadata": {},
   "source": [
    "## Check the Hessian explicitly\n",
    "In the next cell, I am explicitly constructing the Hessian for pow_adder_reducer(). In actual use, the Hessian will probably be too big to construct. I just want to see if I can construct it and multiply it into the input vectors and get the same result as vhp()."
   ]
  },
  {
   "cell_type": "code",
   "execution_count": 7,
   "id": "e75f4fc5",
   "metadata": {},
   "outputs": [
    {
     "name": "stdout",
     "output_type": "stream",
     "text": [
      "pow_adder_reducer: tensor(3.6936, grad_fn=<SumBackward0>)\n",
      "check pow_adder_reducer: tensor(3.6936) \n",
      "\n",
      "vhp: (tensor([4.2515, 9.9840, 6.6377], grad_fn=<AddBackward0>), tensor([17.4701,  8.9435, 12.5526], grad_fn=<AddBackward0>))\n",
      "vmat @ H: [tensor([ 4.2515, 17.4701]), tensor([9.9840, 8.9435]), tensor([ 6.6377, 12.5526])] \n",
      "\n",
      "tensor(0., grad_fn=<SubBackward0>) tensor(0., grad_fn=<SubBackward0>)\n",
      "tensor(0., grad_fn=<SubBackward0>) tensor(0., grad_fn=<SubBackward0>)\n",
      "tensor(4.7684e-07, grad_fn=<SubBackward0>) tensor(0., grad_fn=<SubBackward0>)\n"
     ]
    }
   ],
   "source": [
    "nv = 3\n",
    "inputs = (torch.rand(nv), torch.rand(nv)) #  need an x and a y\n",
    "v = (torch.ones(nv), torch.ones(nv))\n",
    "lp, vH = vhp(pow_adder_reducer, inputs, v, create_graph=True)\n",
    "print('pow_adder_reducer:', lp)\n",
    "print('check pow_adder_reducer:', pow_adder_reducer(*inputs),'\\n')\n",
    "\n",
    "print('vhp:', vH)\n",
    "# for i,v in enumerate(vH):\n",
    "#     print('vhp['+str(i)+']:', v.detach().numpy())\n",
    "\n",
    "x, y = inputs\n",
    "H = []\n",
    "vmat = torch.zeros(2, nv)\n",
    "for i in range(nv):\n",
    "    vmat[0,i] = v[0][i]\n",
    "    vmat[1,i] = v[1][i]\n",
    "    H.append(torch.tensor([[(24*x[i]**2 + 6*x[i]*y[i]**5), (15*x[i]**2*y[i]**4)],\\\n",
    "                           [(15*x[i]**2*y[i]**4), (18*y[i]+20*x[i]**3*y[i]**3)]]))\n",
    "\n",
    "vH_check = []\n",
    "for i in range(nv):\n",
    "    vH_check.append(vmat[:,i].t() @ H[i])\n",
    "\n",
    "print('vmat @ H:', vH_check,'\\n')\n",
    "\n",
    "for i in range(nv):\n",
    "    print(vH[0][i]-vH_check[i][0], vH[1][i]-vH_check[i][1])"
   ]
  },
  {
   "cell_type": "code",
   "execution_count": 8,
   "id": "cd0717fe",
   "metadata": {},
   "outputs": [
    {
     "data": {
      "text/plain": [
       "(tensor([4.2515, 9.9840, 6.6377], grad_fn=<AddBackward0>),\n",
       " tensor([17.4701,  8.9435, 12.5526], grad_fn=<AddBackward0>))"
      ]
     },
     "execution_count": 8,
     "metadata": {},
     "output_type": "execute_result"
    }
   ],
   "source": [
    "vH"
   ]
  },
  {
   "cell_type": "code",
   "execution_count": 9,
   "id": "8e9eaad4",
   "metadata": {},
   "outputs": [
    {
     "data": {
      "text/plain": [
       "[tensor([ 4.2515, 17.4701]),\n",
       " tensor([9.9840, 8.9435]),\n",
       " tensor([ 6.6377, 12.5526])]"
      ]
     },
     "execution_count": 9,
     "metadata": {},
     "output_type": "execute_result"
    }
   ],
   "source": [
    "vH_check"
   ]
  },
  {
   "cell_type": "markdown",
   "id": "bab75e2f",
   "metadata": {},
   "source": [
    "# VHP with respect to model parameters"
   ]
  },
  {
   "cell_type": "markdown",
   "id": "b74e92c0",
   "metadata": {},
   "source": [
    "The following is from a stackoverflow question about applying vhp when models with parameters are involved, as opposed to simpler functions where we don't have to iterate over parameters.\n",
    "\n",
    "https://stackoverflow.com/questions/68492748/trouble-with-minimal-hvp-on-pytorch-model\n",
    "\n",
    "This in turn linked to\n",
    "\n",
    "https://discuss.pytorch.org/t/hvp-w-r-t-model-parameters/83520\n",
    "\n"
   ]
  },
  {
   "cell_type": "code",
   "execution_count": 10,
   "id": "7c42b769",
   "metadata": {},
   "outputs": [],
   "source": [
    "\n",
    "# your simple MLP model\n",
    "class SimpleMLP(nn.Module):\n",
    "    def __init__(self, in_dim, out_dim):\n",
    "        super().__init__()\n",
    "        self.layers = nn.Sequential(\n",
    "            nn.Linear(in_dim, out_dim),\n",
    "        )\n",
    "\n",
    "    def forward(self, x):\n",
    "        '''Forward pass'''\n",
    "#         return self.layers(x)\n",
    "        return torch.sigmoid(self.layers(x))\n",
    "\n",
    "    \n",
    "\n"
   ]
  },
  {
   "cell_type": "code",
   "execution_count": 11,
   "id": "32d9c42c",
   "metadata": {},
   "outputs": [],
   "source": [
    "\n",
    "# your model instantiation\n",
    "in_dim, out_dim = 3, 2\n",
    "mlp = SimpleMLP(in_dim, out_dim)\n",
    "\n",
    "v_to_dot = tuple([torch.rand_like(p.clone().detach()) for p in mlp.parameters()])\n",
    "\n",
    "xglobal = torch.rand((in_dim,)) # need to eliminate this and other global refs. \n"
   ]
  },
  {
   "cell_type": "code",
   "execution_count": 12,
   "id": "39552cd4",
   "metadata": {},
   "outputs": [
    {
     "data": {
      "text/plain": [
       "tensor([0.4889, 0.4944], grad_fn=<SigmoidBackward>)"
      ]
     },
     "execution_count": 12,
     "metadata": {},
     "output_type": "execute_result"
    }
   ],
   "source": [
    "mlp(xglobal)"
   ]
  },
  {
   "cell_type": "code",
   "execution_count": 13,
   "id": "1d13a199",
   "metadata": {},
   "outputs": [],
   "source": [
    "# This is how we trick vhp into doing the Hessian with respect to params and not other inputs.\n",
    "#\n",
    "# Sadly it contains some global variables. \n",
    "def loss_wrt_params(*new_params):\n",
    "    load_weights(mlp, names, new_params) # Weird! We removed the params before. \n",
    "    if len(tuple(mlp.named_parameters())) == 0:\n",
    "        print('Model has no parameters!')\n",
    "    for n,p in mlp.named_parameters():\n",
    "        if p is None:\n",
    "            print('whoops p is None!')\n",
    "        else:\n",
    "            print(n,p)\n",
    "    out = mlp(xglobal)  # model output\n",
    "    loss = objective(out)  # comparing model to ground truth, in practice. \n",
    "    \n",
    "    loss.backward(retain_graph=True)\n",
    "    return loss\n"
   ]
  },
  {
   "cell_type": "code",
   "execution_count": 14,
   "id": "58e8444b",
   "metadata": {},
   "outputs": [
    {
     "data": {
      "text/plain": [
       "SimpleMLP(\n",
       "  (layers): Sequential(\n",
       "    (0): Linear(in_features=3, out_features=2, bias=True)\n",
       "  )\n",
       ")"
      ]
     },
     "execution_count": 14,
     "metadata": {},
     "output_type": "execute_result"
    }
   ],
   "source": [
    "mlp"
   ]
  },
  {
   "cell_type": "code",
   "execution_count": 15,
   "id": "187ce865",
   "metadata": {},
   "outputs": [],
   "source": [
    "\n",
    "# Following are utilities to make nn.Module \"functional\", in the sense of \n",
    "#    being from or compatible with the torch.autograd.functional library. \n",
    "#\n",
    "# borrowed from the link I posted in comment\n",
    "# \n",
    "def del_attr(obj, names): # why, why, why? But it definitely breaks without this. \n",
    "    if len(names) == 1:\n",
    "#         print('BEFORE:')\n",
    "#         print([n for n,p in obj.named_parameters()])\n",
    "        delattr(obj, names[0])\n",
    "#         print('AFTER:')\n",
    "#         print([n for n,p in obj.named_parameters()])\n",
    "    else:\n",
    "#         print('recursing',len(names))\n",
    "        del_attr(getattr(obj, names[0]), names[1:])\n",
    "\n",
    "def set_attr(obj, names, val):\n",
    "    if len(names) == 1:\n",
    "#         print('BEFORE:')\n",
    "#         print([n for n,p in obj.named_parameters()])\n",
    "        setattr(obj, names[0], val)\n",
    "#         print('AFTER:')\n",
    "#         print([n for n,p in obj.named_parameters()])\n",
    "    else:\n",
    "#         print('recursing',len(names))\n",
    "        set_attr(getattr(obj, names[0]), names[1:], val)\n",
    "\n",
    "def make_functional(model):\n",
    "    orig_params = tuple(model.parameters())\n",
    "    orig_grad = capture_gradients(model)\n",
    "    # Remove all the parameters in the model, because reasons. \n",
    "    names = []\n",
    "    for name, p in list(model.named_parameters()):\n",
    "        del_attr(model, name.split(\".\"))\n",
    "        names.append(name)\n",
    "    return orig_params, orig_grad, names\n",
    "\n",
    "def load_weights(model, names, params, as_params=False):\n",
    "    for name, p in zip(names, params):\n",
    "        if not as_params:\n",
    "            set_attr(model, name.split(\".\"), p)\n",
    "        else:\n",
    "            set_attr(model, name.split(\".\"), torch.nn.Parameter(p))\n",
    "\n",
    "def restore_model(model, names, params, grad): # (this one is mine)\n",
    "    load_weights(model, names, params, as_params=True)\n",
    "    for k, v in model.named_parameters():\n",
    "        if grad[k+'.grad']:\n",
    "            v.grad = grad[k].clone().detach()\n",
    "        else:\n",
    "            v.grad = None\n",
    "\n",
    "\n",
    "def capture_gradients(model): # returns gradients in dict vector form (this one is also mine)\n",
    "    g = {}\n",
    "    for k, v in model.named_parameters():\n",
    "        gnext = v.grad\n",
    "        knext = k + '.grad'\n",
    "        if gnext is not None:\n",
    "            next_entry = {knext: gnext.clone().detach()}\n",
    "        else:\n",
    "            next_entry = {knext: None}\n",
    "        g.update(next_entry)\n",
    "    return g\n",
    "  \n",
    "def sigmoid(x):\n",
    "    return 1 /(1+torch.exp(-x))\n",
    "\n",
    "def sigprime(x):\n",
    "    return torch.exp(-x)*sigmoid(x)**2\n",
    "\n",
    "def invsigmoid(x):\n",
    "    return -torch.log(1/x-1)\n",
    "    "
   ]
  },
  {
   "cell_type": "code",
   "execution_count": 16,
   "id": "9ceb7b17",
   "metadata": {},
   "outputs": [
    {
     "name": "stdout",
     "output_type": "stream",
     "text": [
      "layers.0.weight : Parameter containing:\n",
      "tensor([[-0.1745, -0.1135, -0.5516],\n",
      "        [-0.3824, -0.2380,  0.0214]], requires_grad=True)\n",
      "layers.0.bias : Parameter containing:\n",
      "tensor([0.2282, 0.3464], requires_grad=True)\n"
     ]
    }
   ],
   "source": [
    "for n, p in mlp.named_parameters():\n",
    "    print(n,':',p)"
   ]
  },
  {
   "cell_type": "code",
   "execution_count": 17,
   "id": "1d0db53f",
   "metadata": {},
   "outputs": [
    {
     "data": {
      "text/plain": [
       "2"
      ]
     },
     "execution_count": 17,
     "metadata": {},
     "output_type": "execute_result"
    }
   ],
   "source": [
    "len(tuple(mlp.parameters()))"
   ]
  },
  {
   "cell_type": "code",
   "execution_count": 18,
   "id": "e5802a63",
   "metadata": {},
   "outputs": [],
   "source": [
    "#make model's parameters functional\n",
    "orig_params, orig_grad, names = make_functional(mlp)\n",
    "params2pass = tuple(p.detach().requires_grad_() for p in orig_params)\n"
   ]
  },
  {
   "cell_type": "markdown",
   "id": "c866ac75",
   "metadata": {},
   "source": [
    "## The \"objective function\"\n",
    "The function called objective() is important here. It must generate a scalar from a tensor. It takes the output of the model (called mlp(), generates a vector) and operates on it, to produce a scalar. In actual use, objective will probably somehow compare the mlp output to some ground truth. \n",
    "\n",
    "If objective  is linear in its input, the second derivatives in the Hessian will be zero. For some reason, Pytorch barfs on this, rather than just giving zeros.\n",
    "\n",
    "Using absolute value as objective(), though, seems to be ok. Sure, abs is not linear, but doesn't it make the Hessian zero everywhere except X=0? Why shouldn't this cause the same issue? "
   ]
  },
  {
   "cell_type": "code",
   "execution_count": 19,
   "id": "b9cd6065",
   "metadata": {},
   "outputs": [],
   "source": [
    "\n",
    "#  \"loss\" function\n",
    "def objective(X):\n",
    "#     return torch.sum(0.25 * torch.sum(X)**4)  # this is what the online example had. \n",
    "# derivative of objective wrt X is sum(X)**3*(ones(shape(X)))\n",
    "#     return torch.sum(torch.abs(X)) # Hessians are zero, but no error thrown\n",
    "    return torch.sum(X**2)\n",
    "#     return torch.sum(X)  # BARF! Error thrown. \n"
   ]
  },
  {
   "cell_type": "code",
   "execution_count": 20,
   "id": "c269437f",
   "metadata": {},
   "outputs": [
    {
     "name": "stdout",
     "output_type": "stream",
     "text": [
      "Model has no parameters!\n"
     ]
    }
   ],
   "source": [
    "loss_value, v_dot_hessian = torch.autograd.functional.vhp(loss_wrt_params, params2pass, \\\n",
    "                                                    v_to_dot, strict=True)\n"
   ]
  },
  {
   "cell_type": "code",
   "execution_count": 21,
   "id": "e37dfea8",
   "metadata": {},
   "outputs": [
    {
     "data": {
      "text/plain": [
       "0"
      ]
     },
     "execution_count": 21,
     "metadata": {},
     "output_type": "execute_result"
    }
   ],
   "source": [
    "len(tuple(mlp.parameters()))"
   ]
  },
  {
   "cell_type": "code",
   "execution_count": 22,
   "id": "89ab1ec6",
   "metadata": {
    "scrolled": true
   },
   "outputs": [
    {
     "name": "stdout",
     "output_type": "stream",
     "text": [
      "layers.0.weight Parameter containing:\n",
      "tensor([[-0.1745, -0.1135, -0.5516],\n",
      "        [-0.3824, -0.2380,  0.0214]], requires_grad=True)\n",
      "layers.0.bias Parameter containing:\n",
      "tensor([0.2282, 0.3464], requires_grad=True)\n",
      "grad is: {'layers.0.weight.grad': tensor([[0.2328, 0.0088, 0.0453],\n",
      "        [0.2355, 0.0089, 0.0458]]), 'layers.0.bias.grad': tensor([0.2443, 0.2472])}\n",
      "loss_value: tensor(0.4835)\n",
      "lossp: tensor(0.4835, grad_fn=<SumBackward0>)\n",
      "vH(params): (tensor([[0.0880, 0.0033, 0.0171],\n",
      "        [0.1949, 0.0074, 0.0379]]), tensor([0.0924, 0.2045]))\n"
     ]
    }
   ],
   "source": [
    "restore_model(mlp, names, orig_params, orig_grad)\n",
    "lossp = loss_wrt_params(*orig_params) # this calls backward on loss = objective(out)\n",
    "grad = capture_gradients(mlp)\n",
    "print('grad is:', grad)\n",
    "# print('dLdY check is:', torch.sum())\n",
    "\n",
    "print('loss_value:', loss_value)\n",
    "print('lossp:', lossp)\n",
    "print('vH(params):', v_dot_hessian)\n",
    "\n",
    "# for p in orig_params:\n",
    "#     print(p.shape)\n",
    "#L=torch.sum(Y**2)/2\n",
    "#Y = W * x + B\n",
    "# dLdY = sum(Y)*ones(Y.shape)\n",
    "# dYdWij = sum(x)\n"
   ]
  },
  {
   "cell_type": "code",
   "execution_count": 23,
   "id": "14860231",
   "metadata": {},
   "outputs": [],
   "source": [
    "Y = mlp(xglobal)\n",
    "#  Y = sigmoid(Z), Z = invsig(Y)\n",
    "# Y = 1/(1+exp(-Z))  Y*(1+exp(-Z)) = 1  1/Y-1 = exp(-Z)   Z = -log(1/Y-1)\n",
    "Z = invsigmoid(Y)"
   ]
  },
  {
   "cell_type": "code",
   "execution_count": 24,
   "id": "05652418",
   "metadata": {},
   "outputs": [
    {
     "name": "stdout",
     "output_type": "stream",
     "text": [
      "tensor([[0.4761, 0.0181, 0.0926],\n",
      "        [0.4763, 0.0181, 0.0926]], grad_fn=<CopySlices>) tensor([0.2499, 0.2500], grad_fn=<MulBackward0>)\n"
     ]
    }
   ],
   "source": [
    "gchk = torch.zeros((2,3))\n",
    "spZ = sigprime(Z)\n",
    "for i in range(2):\n",
    "    for j in range(3):\n",
    "        gchk[i,j] = 2*spZ[i]*xglobal[j]\n",
    "        \n",
    "print(gchk, spZ)"
   ]
  },
  {
   "attachments": {
    "image.png": {
     "image/png": "[encoded data removed]"
    }
   },
   "cell_type": "markdown",
   "id": "92f82a1e",
   "metadata": {},
   "source": [
    "Here is what the result should be above (since I set torch.manual_seed(0)). \n",
    "![image.png](attachment:image.png)"
   ]
  },
  {
   "cell_type": "code",
   "execution_count": 25,
   "id": "28d07bd6",
   "metadata": {},
   "outputs": [
    {
     "data": {
      "text/plain": [
       "tensor([0.9527, 0.0362, 0.1852])"
      ]
     },
     "execution_count": 25,
     "metadata": {},
     "output_type": "execute_result"
    }
   ],
   "source": [
    "xglobal"
   ]
  },
  {
   "cell_type": "code",
   "execution_count": 26,
   "id": "66b36859",
   "metadata": {},
   "outputs": [
    {
     "data": {
      "text/plain": [
       "tensor(0., grad_fn=<SubBackward0>)"
      ]
     },
     "execution_count": 26,
     "metadata": {},
     "output_type": "execute_result"
    }
   ],
   "source": [
    "loss_value-lossp"
   ]
  },
  {
   "cell_type": "code",
   "execution_count": 27,
   "id": "2c9d4c2f",
   "metadata": {},
   "outputs": [],
   "source": [
    "xchk =  torch.rand((in_dim,))\n"
   ]
  },
  {
   "cell_type": "code",
   "execution_count": 28,
   "id": "4856657c",
   "metadata": {},
   "outputs": [
    {
     "name": "stdout",
     "output_type": "stream",
     "text": [
      "tensor([0.4048, 0.5377], grad_fn=<SigmoidBackward>)\n",
      "tensor(0.4529, grad_fn=<SumBackward0>)\n"
     ]
    }
   ],
   "source": [
    "outchk = mlp(xchk)\n",
    "print(outchk)\n",
    "losschk = objective(outchk)\n",
    "print(losschk)"
   ]
  },
  {
   "cell_type": "code",
   "execution_count": 29,
   "id": "713865f1",
   "metadata": {},
   "outputs": [
    {
     "data": {
      "text/plain": [
       "{'layers.0.weight.grad': tensor([[0.2328, 0.0088, 0.0453],\n",
       "         [0.2355, 0.0089, 0.0458]]),\n",
       " 'layers.0.bias.grad': tensor([0.2443, 0.2472])}"
      ]
     },
     "execution_count": 29,
     "metadata": {},
     "output_type": "execute_result"
    }
   ],
   "source": [
    "capture_gradients(mlp)"
   ]
  },
  {
   "cell_type": "code",
   "execution_count": 30,
   "id": "959d3630",
   "metadata": {},
   "outputs": [
    {
     "data": {
      "text/plain": [
       "{'layers.0.weight.grad': tensor([[0.2328, 0.0088, 0.0453],\n",
       "         [0.2355, 0.0089, 0.0458]]),\n",
       " 'layers.0.bias.grad': tensor([0.2443, 0.2472])}"
      ]
     },
     "execution_count": 30,
     "metadata": {},
     "output_type": "execute_result"
    }
   ],
   "source": [
    "grad"
   ]
  },
  {
   "cell_type": "markdown",
   "id": "db1d3584",
   "metadata": {},
   "source": [
    "## Check the Hessian of this \"parameter trick\" function\n",
    "First, make sure I can get the gradient of a linear function with respect to its inputs correct. The result for the in_dim to out_dim transform here should be the sum over rows of the weight matrix.  "
   ]
  },
  {
   "cell_type": "code",
   "execution_count": 31,
   "id": "ff23fd01",
   "metadata": {},
   "outputs": [],
   "source": [
    "class JustLinear(nn.Module):\n",
    "    def __init__(self, in_dim, out_dim):\n",
    "        super().__init__()\n",
    "        self.layers = nn.Sequential(\n",
    "            nn.Linear(in_dim, out_dim),\n",
    "        )\n",
    "\n",
    "    def forward(self, x):\n",
    "        '''Forward pass'''\n",
    "#         return self.layers(x)\n",
    "        return self.layers(x)\n",
    "\n"
   ]
  },
  {
   "cell_type": "code",
   "execution_count": 32,
   "id": "175d8bee",
   "metadata": {},
   "outputs": [
    {
     "name": "stdout",
     "output_type": "stream",
     "text": [
      "3 2\n"
     ]
    }
   ],
   "source": [
    "print(in_dim, out_dim)"
   ]
  },
  {
   "cell_type": "code",
   "execution_count": 33,
   "id": "247d57df",
   "metadata": {},
   "outputs": [
    {
     "name": "stdout",
     "output_type": "stream",
     "text": [
      "tensor([-0.1832, -0.1556], grad_fn=<AddBackward0>)\n"
     ]
    }
   ],
   "source": [
    "xglobal.grad = None\n",
    "\n",
    "xglobal.retain_grad = False\n",
    "xglobal.requires_grad = True\n",
    "f = JustLinear(in_dim, out_dim)\n",
    "\n",
    "fx = f(xglobal)\n",
    "ext_grad = torch.ones_like(fx)\n",
    "fx.backward(gradient=ext_grad, retain_graph=True, inputs=xglobal)\n",
    "print(fx)\n"
   ]
  },
  {
   "cell_type": "code",
   "execution_count": 34,
   "id": "f7a1f597",
   "metadata": {},
   "outputs": [
    {
     "name": "stdout",
     "output_type": "stream",
     "text": [
      "the result of backward is:\n",
      " tensor([-0.9150, -0.6028,  0.0929]) \n",
      "\n",
      "the sum over rows of the weight matrix is:\n",
      "tensor([-0.9150, -0.6028,  0.0929], grad_fn=<SumBackward1>)\n",
      "\n",
      "These should both be the same vector, with 3 components.\n"
     ]
    }
   ],
   "source": [
    "print('the result of backward is:\\n', xglobal.grad,'\\n')\n",
    "\n",
    "print('the sum over rows of the weight matrix is:')\n",
    "for p in f.named_parameters():\n",
    "    if 'weight' in p[0]:\n",
    "        print(torch.sum(p[1],0))\n",
    "        \n",
    "print('\\nThese should both be the same vector, with',in_dim,'components.')"
   ]
  },
  {
   "cell_type": "markdown",
   "id": "4f178c31",
   "metadata": {},
   "source": [
    "We are taking derivatives of each output component and summing over them. I guess the sum is implicit in backward()? Otherwise I don't see how it comes about. I feel like each output component should have its own value of the gradient here. I guess I am thinking backward() should compute the Jacobian, but it does not. OMG the documentation says exactly that. Ok. "
   ]
  },
  {
   "attachments": {
    "image.png": {
     "image/png": "[encoded data removed]"
    }
   },
   "cell_type": "markdown",
   "id": "fab247c4",
   "metadata": {},
   "source": [
    "![image.png](attachment:image.png)"
   ]
  },
  {
   "cell_type": "markdown",
   "id": "e0380b83",
   "metadata": {},
   "source": [
    "# Argh, what is a leaf node? "
   ]
  },
  {
   "cell_type": "markdown",
   "id": "2b475aaa",
   "metadata": {},
   "source": [
    "The following is meant to be an example of what leaf nodes are. I think it might be helpful, even though the blog post it came from is super hard to understand and explains itself poorly. http://www.bnikolic.co.uk/blog/pytorch/python/2021/03/15/pytorch-leaf.html\n",
    "\n",
    "In the stuff I worked through above here, I made sure to have the inputs be the leaves. I think if I used grad instead of backward, pytorch would assume that's what I wanted. "
   ]
  },
  {
   "cell_type": "code",
   "execution_count": 35,
   "id": "a1f63550",
   "metadata": {},
   "outputs": [],
   "source": [
    "\n",
    "import torch\n",
    "\n",
    "x=torch.ones(10, requires_grad=True)\n",
    "y=torch.ones(10, requires_grad=True)\n",
    "\n",
    "# The remaining nodes are not leaves:\n",
    "def H(z1, z2):\n",
    "    ret = torch.sin(z1**3)*torch.cos(z2**2)\n",
    "    return ret\n",
    "# dHdz1 = cos(z1**3)*cos(z2**2)*3*z1**2\n",
    "# dHdz2 = -sin(z1**3)*sin(z2**2)*2*z2\n",
    "\n",
    "def G(z1, z2):\n",
    "    return torch.exp(z1)+torch.log(z2)\n",
    "\n",
    "def F(z1, z2):\n",
    "    return z1**3*z2**0.5\n",
    "\n",
    "h=H(x,y)\n",
    "\n",
    "g=G(x,y)\n",
    "\n",
    "f=F(h,g)\n",
    "f.retain_grad()\n",
    "f.sum().backward() # must sum to get a scalar, otherwise backward() will barf. \n",
    "                    #  No gradients are loaded until backward() is called. \n",
    "   "
   ]
  },
  {
   "cell_type": "code",
   "execution_count": 36,
   "id": "12fbde4a",
   "metadata": {},
   "outputs": [],
   "source": [
    "hchk = np.sin(1)*np.cos(1)\n",
    "gchk = np.exp(1) + np.log(1)"
   ]
  },
  {
   "cell_type": "code",
   "execution_count": 37,
   "id": "4c994a79",
   "metadata": {},
   "outputs": [],
   "source": [
    "dFdh = 3*hchk**2 *np.sqrt(gchk)\n",
    "dFdg = 0.5* hchk**3 / np.sqrt(gchk)"
   ]
  },
  {
   "cell_type": "code",
   "execution_count": 38,
   "id": "d54b4bc5",
   "metadata": {},
   "outputs": [],
   "source": [
    "dgdx = np.exp(1)\n",
    "dgdy = 1.0\n",
    "dhdx = np.cos(1)*np.cos(1)*3\n",
    "dhdy = -np.sin(1)*np.sin(1)*2\n",
    "#-sin(z1**3)*sin(z2**2)*2*z2\n"
   ]
  },
  {
   "cell_type": "code",
   "execution_count": 39,
   "id": "9c014567",
   "metadata": {},
   "outputs": [
    {
     "name": "stdout",
     "output_type": "stream",
     "text": [
      "dFdx = 0.9728684287087229\n",
      "dFdy = -1.419366770452894\n"
     ]
    }
   ],
   "source": [
    "dFdx = dFdh*dhdx + dFdg*dgdx\n",
    "dFdy = dFdh*dhdy + dFdg*dgdy\n",
    "print('dFdx =', dFdx)\n",
    "print('dFdy =', dFdy)\n"
   ]
  },
  {
   "cell_type": "code",
   "execution_count": 40,
   "id": "5cdf7cde",
   "metadata": {},
   "outputs": [
    {
     "name": "stdout",
     "output_type": "stream",
     "text": [
      "tensor([-1.1921e-07, -1.1921e-07, -1.1921e-07, -1.1921e-07, -1.1921e-07,\n",
      "        -1.1921e-07, -1.1921e-07, -1.1921e-07, -1.1921e-07, -1.1921e-07])\n",
      "tensor([0., 0., 0., 0., 0., 0., 0., 0., 0., 0.])\n"
     ]
    }
   ],
   "source": [
    "print(dFdx - x.grad)\n",
    "print(dFdy - y.grad)"
   ]
  },
  {
   "cell_type": "code",
   "execution_count": 41,
   "id": "9a8e4368",
   "metadata": {},
   "outputs": [
    {
     "data": {
      "text/plain": [
       "tensor([1., 1., 1., 1., 1., 1., 1., 1., 1., 1.])"
      ]
     },
     "execution_count": 41,
     "metadata": {},
     "output_type": "execute_result"
    }
   ],
   "source": [
    "f.grad"
   ]
  },
  {
   "cell_type": "code",
   "execution_count": 42,
   "id": "c9a99eae",
   "metadata": {},
   "outputs": [],
   "source": [
    "a = torch.tensor([2., 3.], requires_grad=True)\n",
    "b = torch.tensor([6., 4.], requires_grad=True)"
   ]
  },
  {
   "cell_type": "code",
   "execution_count": 43,
   "id": "d505b8ed",
   "metadata": {},
   "outputs": [],
   "source": [
    "Q = 3*a**3 - b**2"
   ]
  },
  {
   "cell_type": "code",
   "execution_count": 44,
   "id": "19e33e51",
   "metadata": {},
   "outputs": [],
   "source": [
    "Q.retain_grad()"
   ]
  },
  {
   "cell_type": "code",
   "execution_count": 45,
   "id": "588a8ddc",
   "metadata": {},
   "outputs": [],
   "source": [
    "Q.sum().backward()"
   ]
  },
  {
   "cell_type": "code",
   "execution_count": 46,
   "id": "b05f8d16",
   "metadata": {},
   "outputs": [
    {
     "data": {
      "text/plain": [
       "tensor([36., 81.])"
      ]
     },
     "execution_count": 46,
     "metadata": {},
     "output_type": "execute_result"
    }
   ],
   "source": [
    "a.grad\n"
   ]
  },
  {
   "cell_type": "code",
   "execution_count": 47,
   "id": "237d92cb",
   "metadata": {},
   "outputs": [
    {
     "data": {
      "text/plain": [
       "tensor([-12.,  -8.])"
      ]
     },
     "execution_count": 47,
     "metadata": {},
     "output_type": "execute_result"
    }
   ],
   "source": [
    "b.grad"
   ]
  },
  {
   "cell_type": "code",
   "execution_count": 48,
   "id": "a8398c54",
   "metadata": {},
   "outputs": [],
   "source": [
    "a.grad, b.grad = None, None"
   ]
  },
  {
   "cell_type": "code",
   "execution_count": 49,
   "id": "4f507b9e",
   "metadata": {},
   "outputs": [
    {
     "data": {
      "text/plain": [
       "tensor([-12.,  65.], grad_fn=<SubBackward0>)"
      ]
     },
     "execution_count": 49,
     "metadata": {},
     "output_type": "execute_result"
    }
   ],
   "source": [
    "Q"
   ]
  },
  {
   "cell_type": "code",
   "execution_count": null,
   "id": "2f7b934f",
   "metadata": {},
   "outputs": [],
   "source": []
  }
 ],
 "metadata": {
  "kernelspec": {
   "display_name": "Python 3 (ipykernel)",
   "language": "python",
   "name": "python3"
  },
  "language_info": {
   "codemirror_mode": {
    "name": "ipython",
    "version": 3
   },
   "file_extension": ".py",
   "mimetype": "text/x-python",
   "name": "python",
   "nbconvert_exporter": "python",
   "pygments_lexer": "ipython3",
   "version": "3.7.11"
  }
 },
 "nbformat": 4,
 "nbformat_minor": 5
}
